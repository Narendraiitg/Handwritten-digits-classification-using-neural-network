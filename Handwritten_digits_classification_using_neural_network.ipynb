{
  "nbformat": 4,
  "nbformat_minor": 0,
  "metadata": {
    "colab": {
      "provenance": [],
      "toc_visible": true,
      "authorship_tag": "ABX9TyNzs/kR87kHWO+TZmWlUNcN",
      "include_colab_link": true
    },
    "kernelspec": {
      "name": "python3",
      "display_name": "Python 3"
    },
    "language_info": {
      "name": "python"
    }
  },
  "cells": [
    {
      "cell_type": "markdown",
      "metadata": {
        "id": "view-in-github",
        "colab_type": "text"
      },
      "source": [
        "<a href=\"https://colab.research.google.com/github/Narendraiitg/Handwritten-digits-classification-using-neural-network/blob/main/Handwritten_digits_classification_using_neural_network.ipynb\" target=\"_parent\"><img src=\"https://colab.research.google.com/assets/colab-badge.svg\" alt=\"Open In Colab\"/></a>"
      ]
    },
    {
      "cell_type": "markdown",
      "source": [
        "In this project we will classify handwritten digits using a simple neural network which has only input and output layers. We will than add a hidden layer and see how the performance of the model improves by aading the same."
      ],
      "metadata": {
        "id": "om2VwVNt_Z2U"
      }
    },
    {
      "cell_type": "code",
      "execution_count": 1,
      "metadata": {
        "id": "XMjvsW2k_RT7"
      },
      "outputs": [],
      "source": [
        "import tensorflow as tf\n",
        "from tensorflow import keras\n",
        "import matplotlib.pyplot as plt\n",
        "%matplotlib inline\n",
        "import numpy as np"
      ]
    },
    {
      "cell_type": "code",
      "source": [
        "# Loading the MNIST dataset from the keras\n",
        "(X_train, y_train) , (X_test, y_test) = keras.datasets.mnist.load_data()"
      ],
      "metadata": {
        "colab": {
          "base_uri": "https://localhost:8080/"
        },
        "id": "AAGRvl0B_pfL",
        "outputId": "fccf72d1-dd60-40e4-a6a3-b69b31aad9eb"
      },
      "execution_count": 2,
      "outputs": [
        {
          "output_type": "stream",
          "name": "stdout",
          "text": [
            "Downloading data from https://storage.googleapis.com/tensorflow/tf-keras-datasets/mnist.npz\n",
            "11490434/11490434 [==============================] - 0s 0us/step\n"
          ]
        }
      ]
    },
    {
      "cell_type": "code",
      "source": [
        "# Checking the length of training and testing data\n",
        "print(len(X_train),len(X_test))"
      ],
      "metadata": {
        "colab": {
          "base_uri": "https://localhost:8080/"
        },
        "id": "gkP2N79T_z2b",
        "outputId": "1f009f86-b913-4fa3-b2f4-7ce201f23738"
      },
      "execution_count": 3,
      "outputs": [
        {
          "output_type": "stream",
          "name": "stdout",
          "text": [
            "60000 10000\n"
          ]
        }
      ]
    },
    {
      "cell_type": "markdown",
      "source": [
        "So our taring data consist of 60000 images and our test data consist of 10000 images & all are grayscaled images "
      ],
      "metadata": {
        "id": "LD3nwsCLAHSv"
      }
    },
    {
      "cell_type": "code",
      "source": [
        "# We can also check the size/dimension of one image\n",
        "X_train[0].shape"
      ],
      "metadata": {
        "colab": {
          "base_uri": "https://localhost:8080/"
        },
        "id": "U6EYNG_cAFqv",
        "outputId": "88eb97df-186f-4b9e-e25e-24ba27f12f8c"
      },
      "execution_count": 4,
      "outputs": [
        {
          "output_type": "execute_result",
          "data": {
            "text/plain": [
              "(28, 28)"
            ]
          },
          "metadata": {},
          "execution_count": 4
        }
      ]
    },
    {
      "cell_type": "markdown",
      "source": [
        "So we have images of dimension 28x28"
      ],
      "metadata": {
        "id": "pFDOh-1eAdza"
      }
    },
    {
      "cell_type": "code",
      "source": [
        "X_train[0]"
      ],
      "metadata": {
        "colab": {
          "base_uri": "https://localhost:8080/"
        },
        "id": "9t3xzkyqAcia",
        "outputId": "62baf673-4e4e-4716-cbba-0276cb2a9ff9"
      },
      "execution_count": 5,
      "outputs": [
        {
          "output_type": "execute_result",
          "data": {
            "text/plain": [
              "array([[  0,   0,   0,   0,   0,   0,   0,   0,   0,   0,   0,   0,   0,\n",
              "          0,   0,   0,   0,   0,   0,   0,   0,   0,   0,   0,   0,   0,\n",
              "          0,   0],\n",
              "       [  0,   0,   0,   0,   0,   0,   0,   0,   0,   0,   0,   0,   0,\n",
              "          0,   0,   0,   0,   0,   0,   0,   0,   0,   0,   0,   0,   0,\n",
              "          0,   0],\n",
              "       [  0,   0,   0,   0,   0,   0,   0,   0,   0,   0,   0,   0,   0,\n",
              "          0,   0,   0,   0,   0,   0,   0,   0,   0,   0,   0,   0,   0,\n",
              "          0,   0],\n",
              "       [  0,   0,   0,   0,   0,   0,   0,   0,   0,   0,   0,   0,   0,\n",
              "          0,   0,   0,   0,   0,   0,   0,   0,   0,   0,   0,   0,   0,\n",
              "          0,   0],\n",
              "       [  0,   0,   0,   0,   0,   0,   0,   0,   0,   0,   0,   0,   0,\n",
              "          0,   0,   0,   0,   0,   0,   0,   0,   0,   0,   0,   0,   0,\n",
              "          0,   0],\n",
              "       [  0,   0,   0,   0,   0,   0,   0,   0,   0,   0,   0,   0,   3,\n",
              "         18,  18,  18, 126, 136, 175,  26, 166, 255, 247, 127,   0,   0,\n",
              "          0,   0],\n",
              "       [  0,   0,   0,   0,   0,   0,   0,   0,  30,  36,  94, 154, 170,\n",
              "        253, 253, 253, 253, 253, 225, 172, 253, 242, 195,  64,   0,   0,\n",
              "          0,   0],\n",
              "       [  0,   0,   0,   0,   0,   0,   0,  49, 238, 253, 253, 253, 253,\n",
              "        253, 253, 253, 253, 251,  93,  82,  82,  56,  39,   0,   0,   0,\n",
              "          0,   0],\n",
              "       [  0,   0,   0,   0,   0,   0,   0,  18, 219, 253, 253, 253, 253,\n",
              "        253, 198, 182, 247, 241,   0,   0,   0,   0,   0,   0,   0,   0,\n",
              "          0,   0],\n",
              "       [  0,   0,   0,   0,   0,   0,   0,   0,  80, 156, 107, 253, 253,\n",
              "        205,  11,   0,  43, 154,   0,   0,   0,   0,   0,   0,   0,   0,\n",
              "          0,   0],\n",
              "       [  0,   0,   0,   0,   0,   0,   0,   0,   0,  14,   1, 154, 253,\n",
              "         90,   0,   0,   0,   0,   0,   0,   0,   0,   0,   0,   0,   0,\n",
              "          0,   0],\n",
              "       [  0,   0,   0,   0,   0,   0,   0,   0,   0,   0,   0, 139, 253,\n",
              "        190,   2,   0,   0,   0,   0,   0,   0,   0,   0,   0,   0,   0,\n",
              "          0,   0],\n",
              "       [  0,   0,   0,   0,   0,   0,   0,   0,   0,   0,   0,  11, 190,\n",
              "        253,  70,   0,   0,   0,   0,   0,   0,   0,   0,   0,   0,   0,\n",
              "          0,   0],\n",
              "       [  0,   0,   0,   0,   0,   0,   0,   0,   0,   0,   0,   0,  35,\n",
              "        241, 225, 160, 108,   1,   0,   0,   0,   0,   0,   0,   0,   0,\n",
              "          0,   0],\n",
              "       [  0,   0,   0,   0,   0,   0,   0,   0,   0,   0,   0,   0,   0,\n",
              "         81, 240, 253, 253, 119,  25,   0,   0,   0,   0,   0,   0,   0,\n",
              "          0,   0],\n",
              "       [  0,   0,   0,   0,   0,   0,   0,   0,   0,   0,   0,   0,   0,\n",
              "          0,  45, 186, 253, 253, 150,  27,   0,   0,   0,   0,   0,   0,\n",
              "          0,   0],\n",
              "       [  0,   0,   0,   0,   0,   0,   0,   0,   0,   0,   0,   0,   0,\n",
              "          0,   0,  16,  93, 252, 253, 187,   0,   0,   0,   0,   0,   0,\n",
              "          0,   0],\n",
              "       [  0,   0,   0,   0,   0,   0,   0,   0,   0,   0,   0,   0,   0,\n",
              "          0,   0,   0,   0, 249, 253, 249,  64,   0,   0,   0,   0,   0,\n",
              "          0,   0],\n",
              "       [  0,   0,   0,   0,   0,   0,   0,   0,   0,   0,   0,   0,   0,\n",
              "          0,  46, 130, 183, 253, 253, 207,   2,   0,   0,   0,   0,   0,\n",
              "          0,   0],\n",
              "       [  0,   0,   0,   0,   0,   0,   0,   0,   0,   0,   0,   0,  39,\n",
              "        148, 229, 253, 253, 253, 250, 182,   0,   0,   0,   0,   0,   0,\n",
              "          0,   0],\n",
              "       [  0,   0,   0,   0,   0,   0,   0,   0,   0,   0,  24, 114, 221,\n",
              "        253, 253, 253, 253, 201,  78,   0,   0,   0,   0,   0,   0,   0,\n",
              "          0,   0],\n",
              "       [  0,   0,   0,   0,   0,   0,   0,   0,  23,  66, 213, 253, 253,\n",
              "        253, 253, 198,  81,   2,   0,   0,   0,   0,   0,   0,   0,   0,\n",
              "          0,   0],\n",
              "       [  0,   0,   0,   0,   0,   0,  18, 171, 219, 253, 253, 253, 253,\n",
              "        195,  80,   9,   0,   0,   0,   0,   0,   0,   0,   0,   0,   0,\n",
              "          0,   0],\n",
              "       [  0,   0,   0,   0,  55, 172, 226, 253, 253, 253, 253, 244, 133,\n",
              "         11,   0,   0,   0,   0,   0,   0,   0,   0,   0,   0,   0,   0,\n",
              "          0,   0],\n",
              "       [  0,   0,   0,   0, 136, 253, 253, 253, 212, 135, 132,  16,   0,\n",
              "          0,   0,   0,   0,   0,   0,   0,   0,   0,   0,   0,   0,   0,\n",
              "          0,   0],\n",
              "       [  0,   0,   0,   0,   0,   0,   0,   0,   0,   0,   0,   0,   0,\n",
              "          0,   0,   0,   0,   0,   0,   0,   0,   0,   0,   0,   0,   0,\n",
              "          0,   0],\n",
              "       [  0,   0,   0,   0,   0,   0,   0,   0,   0,   0,   0,   0,   0,\n",
              "          0,   0,   0,   0,   0,   0,   0,   0,   0,   0,   0,   0,   0,\n",
              "          0,   0],\n",
              "       [  0,   0,   0,   0,   0,   0,   0,   0,   0,   0,   0,   0,   0,\n",
              "          0,   0,   0,   0,   0,   0,   0,   0,   0,   0,   0,   0,   0,\n",
              "          0,   0]], dtype=uint8)"
            ]
          },
          "metadata": {},
          "execution_count": 5
        }
      ]
    },
    {
      "cell_type": "code",
      "source": [
        "plt.matshow(X_train[0])"
      ],
      "metadata": {
        "colab": {
          "base_uri": "https://localhost:8080/",
          "height": 292
        },
        "id": "_4VjBIO0AnCt",
        "outputId": "caf5e21f-f513-480d-cc4e-aa1f1ba279f1"
      },
      "execution_count": 6,
      "outputs": [
        {
          "output_type": "execute_result",
          "data": {
            "text/plain": [
              "<matplotlib.image.AxesImage at 0x7fb49ee73dd0>"
            ]
          },
          "metadata": {},
          "execution_count": 6
        },
        {
          "output_type": "display_data",
          "data": {
            "text/plain": [
              "<Figure size 288x288 with 1 Axes>"
            ],
            "image/png": "[encoded data removed]"
          },
          "metadata": {
            "needs_background": "light"
          }
        }
      ]
    },
    {
      "cell_type": "code",
      "source": [
        "# We can also check the training element corresponding to the X_train[0]\n",
        "y_train[0]"
      ],
      "metadata": {
        "colab": {
          "base_uri": "https://localhost:8080/"
        },
        "id": "cEXyl9mrAzFq",
        "outputId": "d75dbbeb-cdf3-43b0-b8d2-c207666c864e"
      },
      "execution_count": 7,
      "outputs": [
        {
          "output_type": "execute_result",
          "data": {
            "text/plain": [
              "5"
            ]
          },
          "metadata": {},
          "execution_count": 7
        }
      ]
    },
    {
      "cell_type": "code",
      "source": [
        "# Normalizing the pixels values between 0 and 1\n",
        "X_train = X_train / 255\n",
        "X_test = X_test / 255"
      ],
      "metadata": {
        "id": "waUnQowkBD4d"
      },
      "execution_count": 8,
      "outputs": []
    },
    {
      "cell_type": "code",
      "source": [
        "X_train[0]"
      ],
      "metadata": {
        "colab": {
          "base_uri": "https://localhost:8080/"
        },
        "id": "liATM6zHBRKp",
        "outputId": "6e8f4962-6466-40ea-b2f6-c7ea15c5ed59"
      },
      "execution_count": 9,
      "outputs": [
        {
          "output_type": "execute_result",
          "data": {
            "text/plain": [
              "array([[0.        , 0.        , 0.        , 0.        , 0.        ,\n",
              "        0.        , 0.        , 0.        , 0.        , 0.        ,\n",
              "        0.        , 0.        , 0.        , 0.        , 0.        ,\n",
              "        0.        , 0.        , 0.        , 0.        , 0.        ,\n",
              "        0.        , 0.        , 0.        , 0.        , 0.        ,\n",
              "        0.        , 0.        , 0.        ],\n",
              "       [0.        , 0.        , 0.        , 0.        , 0.        ,\n",
              "        0.        , 0.        , 0.        , 0.        , 0.        ,\n",
              "        0.        , 0.        , 0.        , 0.        , 0.        ,\n",
              "        0.        , 0.        , 0.        , 0.        , 0.        ,\n",
              "        0.        , 0.        , 0.        , 0.        , 0.        ,\n",
              "        0.        , 0.        , 0.        ],\n",
              "       [0.        , 0.        , 0.        , 0.        , 0.        ,\n",
              "        0.        , 0.        , 0.        , 0.        , 0.        ,\n",
              "        0.        , 0.        , 0.        , 0.        , 0.        ,\n",
              "        0.        , 0.        , 0.        , 0.        , 0.        ,\n",
              "        0.        , 0.        , 0.        , 0.        , 0.        ,\n",
              "        0.        , 0.        , 0.        ],\n",
              "       [0.        , 0.        , 0.        , 0.        , 0.        ,\n",
              "        0.        , 0.        , 0.        , 0.        , 0.        ,\n",
              "        0.        , 0.        , 0.        , 0.        , 0.        ,\n",
              "        0.        , 0.        , 0.        , 0.        , 0.        ,\n",
              "        0.        , 0.        , 0.        , 0.        , 0.        ,\n",
              "        0.        , 0.        , 0.        ],\n",
              "       [0.        , 0.        , 0.        , 0.        , 0.        ,\n",
              "        0.        , 0.        , 0.        , 0.        , 0.        ,\n",
              "        0.        , 0.        , 0.        , 0.        , 0.        ,\n",
              "        0.        , 0.        , 0.        , 0.        , 0.        ,\n",
              "        0.        , 0.        , 0.        , 0.        , 0.        ,\n",
              "        0.        , 0.        , 0.        ],\n",
              "       [0.        , 0.        , 0.        , 0.        , 0.        ,\n",
              "        0.        , 0.        , 0.        , 0.        , 0.        ,\n",
              "        0.        , 0.        , 0.01176471, 0.07058824, 0.07058824,\n",
              "        0.07058824, 0.49411765, 0.53333333, 0.68627451, 0.10196078,\n",
              "        0.65098039, 1.        , 0.96862745, 0.49803922, 0.        ,\n",
              "        0.        , 0.        , 0.        ],\n",
              "       [0.        , 0.        , 0.        , 0.        , 0.        ,\n",
              "        0.        , 0.        , 0.        , 0.11764706, 0.14117647,\n",
              "        0.36862745, 0.60392157, 0.66666667, 0.99215686, 0.99215686,\n",
              "        0.99215686, 0.99215686, 0.99215686, 0.88235294, 0.6745098 ,\n",
              "        0.99215686, 0.94901961, 0.76470588, 0.25098039, 0.        ,\n",
              "        0.        , 0.        , 0.        ],\n",
              "       [0.        , 0.        , 0.        , 0.        , 0.        ,\n",
              "        0.        , 0.        , 0.19215686, 0.93333333, 0.99215686,\n",
              "        0.99215686, 0.99215686, 0.99215686, 0.99215686, 0.99215686,\n",
              "        0.99215686, 0.99215686, 0.98431373, 0.36470588, 0.32156863,\n",
              "        0.32156863, 0.21960784, 0.15294118, 0.        , 0.        ,\n",
              "        0.        , 0.        , 0.        ],\n",
              "       [0.        , 0.        , 0.        , 0.        , 0.        ,\n",
              "        0.        , 0.        , 0.07058824, 0.85882353, 0.99215686,\n",
              "        0.99215686, 0.99215686, 0.99215686, 0.99215686, 0.77647059,\n",
              "        0.71372549, 0.96862745, 0.94509804, 0.        , 0.        ,\n",
              "        0.        , 0.        , 0.        , 0.        , 0.        ,\n",
              "        0.        , 0.        , 0.        ],\n",
              "       [0.        , 0.        , 0.        , 0.        , 0.        ,\n",
              "        0.        , 0.        , 0.        , 0.31372549, 0.61176471,\n",
              "        0.41960784, 0.99215686, 0.99215686, 0.80392157, 0.04313725,\n",
              "        0.        , 0.16862745, 0.60392157, 0.        , 0.        ,\n",
              "        0.        , 0.        , 0.        , 0.        , 0.        ,\n",
              "        0.        , 0.        , 0.        ],\n",
              "       [0.        , 0.        , 0.        , 0.        , 0.        ,\n",
              "        0.        , 0.        , 0.        , 0.        , 0.05490196,\n",
              "        0.00392157, 0.60392157, 0.99215686, 0.35294118, 0.        ,\n",
              "        0.        , 0.        , 0.        , 0.        , 0.        ,\n",
              "        0.        , 0.        , 0.        , 0.        , 0.        ,\n",
              "        0.        , 0.        , 0.        ],\n",
              "       [0.        , 0.        , 0.        , 0.        , 0.        ,\n",
              "        0.        , 0.        , 0.        , 0.        , 0.        ,\n",
              "        0.        , 0.54509804, 0.99215686, 0.74509804, 0.00784314,\n",
              "        0.        , 0.        , 0.        , 0.        , 0.        ,\n",
              "        0.        , 0.        , 0.        , 0.        , 0.        ,\n",
              "        0.        , 0.        , 0.        ],\n",
              "       [0.        , 0.        , 0.        , 0.        , 0.        ,\n",
              "        0.        , 0.        , 0.        , 0.        , 0.        ,\n",
              "        0.        , 0.04313725, 0.74509804, 0.99215686, 0.2745098 ,\n",
              "        0.        , 0.        , 0.        , 0.        , 0.        ,\n",
              "        0.        , 0.        , 0.        , 0.        , 0.        ,\n",
              "        0.        , 0.        , 0.        ],\n",
              "       [0.        , 0.        , 0.        , 0.        , 0.        ,\n",
              "        0.        , 0.        , 0.        , 0.        , 0.        ,\n",
              "        0.        , 0.        , 0.1372549 , 0.94509804, 0.88235294,\n",
              "        0.62745098, 0.42352941, 0.00392157, 0.        , 0.        ,\n",
              "        0.        , 0.        , 0.        , 0.        , 0.        ,\n",
              "        0.        , 0.        , 0.        ],\n",
              "       [0.        , 0.        , 0.        , 0.        , 0.        ,\n",
              "        0.        , 0.        , 0.        , 0.        , 0.        ,\n",
              "        0.        , 0.        , 0.        , 0.31764706, 0.94117647,\n",
              "        0.99215686, 0.99215686, 0.46666667, 0.09803922, 0.        ,\n",
              "        0.        , 0.        , 0.        , 0.        , 0.        ,\n",
              "        0.        , 0.        , 0.        ],\n",
              "       [0.        , 0.        , 0.        , 0.        , 0.        ,\n",
              "        0.        , 0.        , 0.        , 0.        , 0.        ,\n",
              "        0.        , 0.        , 0.        , 0.        , 0.17647059,\n",
              "        0.72941176, 0.99215686, 0.99215686, 0.58823529, 0.10588235,\n",
              "        0.        , 0.        , 0.        , 0.        , 0.        ,\n",
              "        0.        , 0.        , 0.        ],\n",
              "       [0.        , 0.        , 0.        , 0.        , 0.        ,\n",
              "        0.        , 0.        , 0.        , 0.        , 0.        ,\n",
              "        0.        , 0.        , 0.        , 0.        , 0.        ,\n",
              "        0.0627451 , 0.36470588, 0.98823529, 0.99215686, 0.73333333,\n",
              "        0.        , 0.        , 0.        , 0.        , 0.        ,\n",
              "        0.        , 0.        , 0.        ],\n",
              "       [0.        , 0.        , 0.        , 0.        , 0.        ,\n",
              "        0.        , 0.        , 0.        , 0.        , 0.        ,\n",
              "        0.        , 0.        , 0.        , 0.        , 0.        ,\n",
              "        0.        , 0.        , 0.97647059, 0.99215686, 0.97647059,\n",
              "        0.25098039, 0.        , 0.        , 0.        , 0.        ,\n",
              "        0.        , 0.        , 0.        ],\n",
              "       [0.        , 0.        , 0.        , 0.        , 0.        ,\n",
              "        0.        , 0.        , 0.        , 0.        , 0.        ,\n",
              "        0.        , 0.        , 0.        , 0.        , 0.18039216,\n",
              "        0.50980392, 0.71764706, 0.99215686, 0.99215686, 0.81176471,\n",
              "        0.00784314, 0.        , 0.        , 0.        , 0.        ,\n",
              "        0.        , 0.        , 0.        ],\n",
              "       [0.        , 0.        , 0.        , 0.        , 0.        ,\n",
              "        0.        , 0.        , 0.        , 0.        , 0.        ,\n",
              "        0.        , 0.        , 0.15294118, 0.58039216, 0.89803922,\n",
              "        0.99215686, 0.99215686, 0.99215686, 0.98039216, 0.71372549,\n",
              "        0.        , 0.        , 0.        , 0.        , 0.        ,\n",
              "        0.        , 0.        , 0.        ],\n",
              "       [0.        , 0.        , 0.        , 0.        , 0.        ,\n",
              "        0.        , 0.        , 0.        , 0.        , 0.        ,\n",
              "        0.09411765, 0.44705882, 0.86666667, 0.99215686, 0.99215686,\n",
              "        0.99215686, 0.99215686, 0.78823529, 0.30588235, 0.        ,\n",
              "        0.        , 0.        , 0.        , 0.        , 0.        ,\n",
              "        0.        , 0.        , 0.        ],\n",
              "       [0.        , 0.        , 0.        , 0.        , 0.        ,\n",
              "        0.        , 0.        , 0.        , 0.09019608, 0.25882353,\n",
              "        0.83529412, 0.99215686, 0.99215686, 0.99215686, 0.99215686,\n",
              "        0.77647059, 0.31764706, 0.00784314, 0.        , 0.        ,\n",
              "        0.        , 0.        , 0.        , 0.        , 0.        ,\n",
              "        0.        , 0.        , 0.        ],\n",
              "       [0.        , 0.        , 0.        , 0.        , 0.        ,\n",
              "        0.        , 0.07058824, 0.67058824, 0.85882353, 0.99215686,\n",
              "        0.99215686, 0.99215686, 0.99215686, 0.76470588, 0.31372549,\n",
              "        0.03529412, 0.        , 0.        , 0.        , 0.        ,\n",
              "        0.        , 0.        , 0.        , 0.        , 0.        ,\n",
              "        0.        , 0.        , 0.        ],\n",
              "       [0.        , 0.        , 0.        , 0.        , 0.21568627,\n",
              "        0.6745098 , 0.88627451, 0.99215686, 0.99215686, 0.99215686,\n",
              "        0.99215686, 0.95686275, 0.52156863, 0.04313725, 0.        ,\n",
              "        0.        , 0.        , 0.        , 0.        , 0.        ,\n",
              "        0.        , 0.        , 0.        , 0.        , 0.        ,\n",
              "        0.        , 0.        , 0.        ],\n",
              "       [0.        , 0.        , 0.        , 0.        , 0.53333333,\n",
              "        0.99215686, 0.99215686, 0.99215686, 0.83137255, 0.52941176,\n",
              "        0.51764706, 0.0627451 , 0.        , 0.        , 0.        ,\n",
              "        0.        , 0.        , 0.        , 0.        , 0.        ,\n",
              "        0.        , 0.        , 0.        , 0.        , 0.        ,\n",
              "        0.        , 0.        , 0.        ],\n",
              "       [0.        , 0.        , 0.        , 0.        , 0.        ,\n",
              "        0.        , 0.        , 0.        , 0.        , 0.        ,\n",
              "        0.        , 0.        , 0.        , 0.        , 0.        ,\n",
              "        0.        , 0.        , 0.        , 0.        , 0.        ,\n",
              "        0.        , 0.        , 0.        , 0.        , 0.        ,\n",
              "        0.        , 0.        , 0.        ],\n",
              "       [0.        , 0.        , 0.        , 0.        , 0.        ,\n",
              "        0.        , 0.        , 0.        , 0.        , 0.        ,\n",
              "        0.        , 0.        , 0.        , 0.        , 0.        ,\n",
              "        0.        , 0.        , 0.        , 0.        , 0.        ,\n",
              "        0.        , 0.        , 0.        , 0.        , 0.        ,\n",
              "        0.        , 0.        , 0.        ],\n",
              "       [0.        , 0.        , 0.        , 0.        , 0.        ,\n",
              "        0.        , 0.        , 0.        , 0.        , 0.        ,\n",
              "        0.        , 0.        , 0.        , 0.        , 0.        ,\n",
              "        0.        , 0.        , 0.        , 0.        , 0.        ,\n",
              "        0.        , 0.        , 0.        , 0.        , 0.        ,\n",
              "        0.        , 0.        , 0.        ]])"
            ]
          },
          "metadata": {},
          "execution_count": 9
        }
      ]
    },
    {
      "cell_type": "markdown",
      "source": [
        "We can see that all the values in above 2D array are converted between 0-1"
      ],
      "metadata": {
        "id": "zASX3BkYBWdD"
      }
    },
    {
      "cell_type": "code",
      "source": [
        "X_train_flattened = X_train.reshape(len(X_train), 28*28)\n",
        "X_test_flattened = X_test.reshape(len(X_test), 28*28)"
      ],
      "metadata": {
        "id": "mQYwmtDaBUpK"
      },
      "execution_count": 10,
      "outputs": []
    },
    {
      "cell_type": "code",
      "source": [
        "print(X_train_flattened.shape,X_test_flattened.shape)"
      ],
      "metadata": {
        "colab": {
          "base_uri": "https://localhost:8080/"
        },
        "id": "5UQcFbkPB1Ca",
        "outputId": "ae7e990d-f603-4765-df16-8228f6cb888c"
      },
      "execution_count": 13,
      "outputs": [
        {
          "output_type": "stream",
          "name": "stdout",
          "text": [
            "(60000, 784) (10000, 784)\n"
          ]
        }
      ]
    },
    {
      "cell_type": "markdown",
      "source": [
        "So our 60000 training images of dimension 28x28 are falttened into 1D array of size 784\n",
        "\n",
        "Similarly 10000 test images of dimension 28x28 are falttened into 1D array of size 784"
      ],
      "metadata": {
        "id": "4vYnEyfcCECc"
      }
    },
    {
      "cell_type": "markdown",
      "source": [
        "![ImageNN.jpeg](data:image/jpeg;base64,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)"
      ],
      "metadata": {
        "id": "ZfpBnA5zDUnj"
      }
    },
    {
      "cell_type": "code",
      "source": [
        "model = keras.Sequential([\n",
        "    keras.layers.Dense(10, input_shape=(784,), activation='sigmoid') # only input layer with 784 inputs and having a output with 10 neurons with sigmoid in each neurons\n",
        "])\n",
        "\n",
        "model.compile(optimizer='adam', # Using adam optimizer\n",
        "              loss='sparse_categorical_crossentropy', # Calculating the loss using cross entropy\n",
        "              metrics=['accuracy'])\n",
        "\n",
        "model.fit(X_train_flattened, y_train, epochs=5) # training our model"
      ],
      "metadata": {
        "colab": {
          "base_uri": "https://localhost:8080/"
        },
        "id": "s5s0wi2bB4Aa",
        "outputId": "53c7fbcd-5f82-4577-ba0e-065e6eb6e359"
      },
      "execution_count": 14,
      "outputs": [
        {
          "output_type": "stream",
          "name": "stdout",
          "text": [
            "Epoch 1/5\n",
            "1875/1875 [==============================] - 4s 2ms/step - loss: 0.4682 - accuracy: 0.8784\n",
            "Epoch 2/5\n",
            "1875/1875 [==============================] - 4s 2ms/step - loss: 0.3038 - accuracy: 0.9147\n",
            "Epoch 3/5\n",
            "1875/1875 [==============================] - 3s 2ms/step - loss: 0.2835 - accuracy: 0.9204\n",
            "Epoch 4/5\n",
            "1875/1875 [==============================] - 4s 2ms/step - loss: 0.2730 - accuracy: 0.9227\n",
            "Epoch 5/5\n",
            "1875/1875 [==============================] - 4s 2ms/step - loss: 0.2670 - accuracy: 0.9254\n"
          ]
        },
        {
          "output_type": "execute_result",
          "data": {
            "text/plain": [
              "<keras.callbacks.History at 0x7fb49ee03d10>"
            ]
          },
          "metadata": {},
          "execution_count": 14
        }
      ]
    },
    {
      "cell_type": "markdown",
      "source": [
        "We can see that the highest accuracy on the training samples is 92.54 %"
      ],
      "metadata": {
        "id": "fPIojH8CEX-j"
      }
    },
    {
      "cell_type": "code",
      "source": [
        "# Lets check our accuracy on test data\n",
        "model.evaluate(X_test_flattened, y_test)"
      ],
      "metadata": {
        "colab": {
          "base_uri": "https://localhost:8080/"
        },
        "id": "NQOgixnDERDa",
        "outputId": "53625a04-6711-4f29-98a4-5b46194bda78"
      },
      "execution_count": 15,
      "outputs": [
        {
          "output_type": "stream",
          "name": "stdout",
          "text": [
            "313/313 [==============================] - 1s 2ms/step - loss: 0.2686 - accuracy: 0.9255\n"
          ]
        },
        {
          "output_type": "execute_result",
          "data": {
            "text/plain": [
              "[0.2686198353767395, 0.9254999756813049]"
            ]
          },
          "metadata": {},
          "execution_count": 15
        }
      ]
    },
    {
      "cell_type": "markdown",
      "source": [
        "We can see that the accuracy on the test samples is 92.54 %"
      ],
      "metadata": {
        "id": "h8JhxrU2Eyhj"
      }
    },
    {
      "cell_type": "code",
      "source": [
        "y_predicted = model.predict(X_test_flattened)\n",
        "y_predicted[0]"
      ],
      "metadata": {
        "colab": {
          "base_uri": "https://localhost:8080/"
        },
        "id": "odf35vqzEoGJ",
        "outputId": "3e372f76-bd85-4360-f295-e6625061e5a0"
      },
      "execution_count": 16,
      "outputs": [
        {
          "output_type": "stream",
          "name": "stdout",
          "text": [
            "313/313 [==============================] - 1s 1ms/step\n"
          ]
        },
        {
          "output_type": "execute_result",
          "data": {
            "text/plain": [
              "array([1.7542720e-02, 4.8171773e-07, 6.8198182e-02, 9.4597208e-01,\n",
              "       2.0881959e-03, 1.0109092e-01, 1.5305336e-06, 9.9983823e-01,\n",
              "       1.0721079e-01, 6.8827242e-01], dtype=float32)"
            ]
          },
          "metadata": {},
          "execution_count": 16
        }
      ]
    },
    {
      "cell_type": "code",
      "source": [
        "plt.matshow(X_test[0])"
      ],
      "metadata": {
        "colab": {
          "base_uri": "https://localhost:8080/",
          "height": 292
        },
        "id": "eJHMxiEaE92a",
        "outputId": "dd7649da-fd80-4037-d87b-a9d426e2e271"
      },
      "execution_count": 17,
      "outputs": [
        {
          "output_type": "execute_result",
          "data": {
            "text/plain": [
              "<matplotlib.image.AxesImage at 0x7fb49a582350>"
            ]
          },
          "metadata": {},
          "execution_count": 17
        },
        {
          "output_type": "display_data",
          "data": {
            "text/plain": [
              "<Figure size 288x288 with 1 Axes>"
            ],
            "image/png": "[encoded data removed]"
          },
          "metadata": {
            "needs_background": "light"
          }
        }
      ]
    },
    {
      "cell_type": "code",
      "source": [
        "np.argmax(y_predicted[0])"
      ],
      "metadata": {
        "colab": {
          "base_uri": "https://localhost:8080/"
        },
        "id": "yPuKGL46FB4K",
        "outputId": "845dbf21-655e-419c-a179-6f15dd636060"
      },
      "execution_count": 18,
      "outputs": [
        {
          "output_type": "execute_result",
          "data": {
            "text/plain": [
              "7"
            ]
          },
          "metadata": {},
          "execution_count": 18
        }
      ]
    },
    {
      "cell_type": "markdown",
      "source": [
        "np.argmax finds a maximum element from an array and returns the index of it, in above it is returning the 7 that means y_predicted[0] have the max value at index 7"
      ],
      "metadata": {
        "id": "oEmEyAnAFOJ7"
      }
    },
    {
      "cell_type": "code",
      "source": [
        "y_predicted_labels = [np.argmax(i) for i in y_predicted]"
      ],
      "metadata": {
        "id": "bmEKlZOdFyyY"
      },
      "execution_count": 20,
      "outputs": []
    },
    {
      "cell_type": "code",
      "source": [
        "y_predicted_labels[:5]"
      ],
      "metadata": {
        "colab": {
          "base_uri": "https://localhost:8080/"
        },
        "id": "7U5_ch-tGKnJ",
        "outputId": "18db3bdb-e4cd-405c-91ab-63e0139416e9"
      },
      "execution_count": 21,
      "outputs": [
        {
          "output_type": "execute_result",
          "data": {
            "text/plain": [
              "[7, 2, 1, 0, 4]"
            ]
          },
          "metadata": {},
          "execution_count": 21
        }
      ]
    },
    {
      "cell_type": "code",
      "source": [
        "cm = tf.math.confusion_matrix(labels=y_test,predictions=y_predicted_labels)\n",
        "cm"
      ],
      "metadata": {
        "colab": {
          "base_uri": "https://localhost:8080/"
        },
        "id": "VU8QhWwvGR7p",
        "outputId": "be7bcb59-8cb0-4483-967e-4cd02dbbed2d"
      },
      "execution_count": 22,
      "outputs": [
        {
          "output_type": "execute_result",
          "data": {
            "text/plain": [
              "<tf.Tensor: shape=(10, 10), dtype=int32, numpy=\n",
              "array([[ 960,    0,    1,    2,    0,    5,    6,    2,    3,    1],\n",
              "       [   0, 1119,    3,    2,    0,    1,    4,    2,    4,    0],\n",
              "       [   5,   11,  913,   19,   10,    5,   13,   10,   42,    4],\n",
              "       [   1,    0,   15,  938,    0,   15,    2,   12,   21,    6],\n",
              "       [   2,    2,    2,    1,  911,    0,   11,    4,    9,   40],\n",
              "       [   8,    3,    2,   45,   10,  760,   15,   10,   32,    7],\n",
              "       [  11,    3,    7,    1,    7,   11,  913,    2,    3,    0],\n",
              "       [   1,    8,   22,    6,    5,    0,    0,  960,    1,   25],\n",
              "       [   4,   14,    5,   25,    9,   22,    8,   13,  868,    6],\n",
              "       [  10,    7,    1,   13,   24,    5,    0,   31,    5,  913]],\n",
              "      dtype=int32)>"
            ]
          },
          "metadata": {},
          "execution_count": 22
        }
      ]
    },
    {
      "cell_type": "code",
      "source": [
        "import seaborn as sn\n",
        "plt.figure(figsize = (10,7))\n",
        "sn.heatmap(cm, annot=True, fmt='d')\n",
        "plt.xlabel('Predicted')\n",
        "plt.ylabel('Truth')"
      ],
      "metadata": {
        "colab": {
          "base_uri": "https://localhost:8080/",
          "height": 459
        },
        "id": "QZbcnOB2GUma",
        "outputId": "91ce9c78-5a4e-495d-d4a3-70835bb1b326"
      },
      "execution_count": 23,
      "outputs": [
        {
          "output_type": "execute_result",
          "data": {
            "text/plain": [
              "Text(69.0, 0.5, 'Truth')"
            ]
          },
          "metadata": {},
          "execution_count": 23
        },
        {
          "output_type": "display_data",
          "data": {
            "text/plain": [
              "<Figure size 720x504 with 2 Axes>"
            ],
            "image/png": "[encoded data removed]"
          },
          "metadata": {
            "needs_background": "light"
          }
        }
      ]
    },
    {
      "cell_type": "markdown",
      "source": [
        "# Using hidden layer"
      ],
      "metadata": {
        "id": "kYJ7C5biGf_b"
      }
    },
    {
      "cell_type": "code",
      "source": [
        "model1 = keras.Sequential([\n",
        "    keras.layers.Dense(100,input_shape=(784,), activation='relu'),\n",
        "    keras.layers.Dense(10, activation='sigmoid')\n",
        "])\n",
        "\n",
        "model1.compile(optimizer='adam', # Using adam optimizer\n",
        "              loss='sparse_categorical_crossentropy', # Calculating the loss using cross entropy\n",
        "              metrics=['accuracy'])\n",
        "\n",
        "model1.fit(X_train_flattened, y_train, epochs=5) # training our model"
      ],
      "metadata": {
        "colab": {
          "base_uri": "https://localhost:8080/"
        },
        "id": "X_j8ks0CGYW6",
        "outputId": "d1acb849-514b-4f0d-8071-700494ef5f3c"
      },
      "execution_count": 24,
      "outputs": [
        {
          "output_type": "stream",
          "name": "stdout",
          "text": [
            "Epoch 1/5\n",
            "1875/1875 [==============================] - 6s 3ms/step - loss: 0.2752 - accuracy: 0.9212\n",
            "Epoch 2/5\n",
            "1875/1875 [==============================] - 6s 3ms/step - loss: 0.1237 - accuracy: 0.9636\n",
            "Epoch 3/5\n",
            "1875/1875 [==============================] - 5s 3ms/step - loss: 0.0866 - accuracy: 0.9737\n",
            "Epoch 4/5\n",
            "1875/1875 [==============================] - 5s 3ms/step - loss: 0.0646 - accuracy: 0.9804\n",
            "Epoch 5/5\n",
            "1875/1875 [==============================] - 5s 3ms/step - loss: 0.0514 - accuracy: 0.9839\n"
          ]
        },
        {
          "output_type": "execute_result",
          "data": {
            "text/plain": [
              "<keras.callbacks.History at 0x7fb49ee03290>"
            ]
          },
          "metadata": {},
          "execution_count": 24
        }
      ]
    },
    {
      "cell_type": "markdown",
      "source": [
        "So by using the single hidden layer we can have the accyracy of 98.39 % on the training set"
      ],
      "metadata": {
        "id": "V6uqfjyQH-El"
      }
    },
    {
      "cell_type": "code",
      "source": [
        "# Lets check our accuracy on test data\n",
        "model1.evaluate(X_test_flattened, y_test)"
      ],
      "metadata": {
        "colab": {
          "base_uri": "https://localhost:8080/"
        },
        "id": "tK8-IhuVH0K6",
        "outputId": "c6bc3936-a678-4d19-d89d-62c49854fe8c"
      },
      "execution_count": 25,
      "outputs": [
        {
          "output_type": "stream",
          "name": "stdout",
          "text": [
            "313/313 [==============================] - 1s 3ms/step - loss: 0.0720 - accuracy: 0.9776\n"
          ]
        },
        {
          "output_type": "execute_result",
          "data": {
            "text/plain": [
              "[0.07197432219982147, 0.9775999784469604]"
            ]
          },
          "metadata": {},
          "execution_count": 25
        }
      ]
    },
    {
      "cell_type": "markdown",
      "source": [
        "We can see that the accuracy on the test samples reached to 97.75 % initailly it was 92.54 when we are not using any hidden layer"
      ],
      "metadata": {
        "id": "5Q8sk_uNIVxM"
      }
    },
    {
      "cell_type": "code",
      "source": [
        "y_predicted = model1.predict(X_test_flattened)\n",
        "y_predicted_labels = [np.argmax(i) for i in y_predicted]\n",
        "cm = tf.math.confusion_matrix(labels=y_test,predictions=y_predicted_labels)\n",
        "\n",
        "plt.figure(figsize = (10,7))\n",
        "sn.heatmap(cm, annot=True, fmt='d')\n",
        "plt.xlabel('Predicted')\n",
        "plt.ylabel('Truth')"
      ],
      "metadata": {
        "colab": {
          "base_uri": "https://localhost:8080/",
          "height": 477
        },
        "id": "1vGud-_zIO0Z",
        "outputId": "4854ffcc-149d-4fb6-8951-c5fbb3626349"
      },
      "execution_count": 27,
      "outputs": [
        {
          "output_type": "stream",
          "name": "stdout",
          "text": [
            "313/313 [==============================] - 1s 2ms/step\n"
          ]
        },
        {
          "output_type": "execute_result",
          "data": {
            "text/plain": [
              "Text(69.0, 0.5, 'Truth')"
            ]
          },
          "metadata": {},
          "execution_count": 27
        },
        {
          "output_type": "display_data",
          "data": {
            "text/plain": [
              "<Figure size 720x504 with 2 Axes>"
            ],
            "image/png": "[encoded data removed]"
          },
          "metadata": {
            "needs_background": "light"
          }
        }
      ]
    },
    {
      "cell_type": "markdown",
      "source": [
        "Using Flatten layer so that we don't have to call .reshape on input dataset"
      ],
      "metadata": {
        "id": "3GbxE4xOJAr1"
      }
    },
    {
      "cell_type": "code",
      "source": [
        "model = keras.Sequential([\n",
        "    keras.layers.Flatten(input_shape=(28, 28)), # we are falttening the image in this step only\n",
        "    keras.layers.Dense(100, activation='relu'),\n",
        "    keras.layers.Dense(10, activation='sigmoid')\n",
        "])\n",
        "\n",
        "model.compile(optimizer='adam',\n",
        "              loss='sparse_categorical_crossentropy',\n",
        "              metrics=['accuracy'])\n",
        "\n",
        "model.fit(X_train, y_train, epochs=10)"
      ],
      "metadata": {
        "colab": {
          "base_uri": "https://localhost:8080/"
        },
        "id": "tiotBMfwIxap",
        "outputId": "8c2ab989-cdae-4b79-d5f3-27e35bdb4ca7"
      },
      "execution_count": 28,
      "outputs": [
        {
          "output_type": "stream",
          "name": "stdout",
          "text": [
            "Epoch 1/10\n",
            "1875/1875 [==============================] - 6s 3ms/step - loss: 0.2818 - accuracy: 0.9202\n",
            "Epoch 2/10\n",
            "1875/1875 [==============================] - 5s 3ms/step - loss: 0.1317 - accuracy: 0.9615\n",
            "Epoch 3/10\n",
            "1875/1875 [==============================] - 5s 3ms/step - loss: 0.0902 - accuracy: 0.9729\n",
            "Epoch 4/10\n",
            "1875/1875 [==============================] - 5s 3ms/step - loss: 0.0691 - accuracy: 0.9786\n",
            "Epoch 5/10\n",
            "1875/1875 [==============================] - 5s 3ms/step - loss: 0.0538 - accuracy: 0.9834\n",
            "Epoch 6/10\n",
            "1875/1875 [==============================] - 5s 3ms/step - loss: 0.0437 - accuracy: 0.9863\n",
            "Epoch 7/10\n",
            "1875/1875 [==============================] - 5s 3ms/step - loss: 0.0353 - accuracy: 0.9892\n",
            "Epoch 8/10\n",
            "1875/1875 [==============================] - 5s 3ms/step - loss: 0.0285 - accuracy: 0.9913\n",
            "Epoch 9/10\n",
            "1875/1875 [==============================] - 5s 3ms/step - loss: 0.0239 - accuracy: 0.9924\n",
            "Epoch 10/10\n",
            "1875/1875 [==============================] - 5s 3ms/step - loss: 0.0202 - accuracy: 0.9940\n"
          ]
        },
        {
          "output_type": "execute_result",
          "data": {
            "text/plain": [
              "<keras.callbacks.History at 0x7fb497b71610>"
            ]
          },
          "metadata": {},
          "execution_count": 28
        }
      ]
    },
    {
      "cell_type": "code",
      "source": [
        "# Lets check our accuracy on test data\n",
        "model.evaluate(X_test, y_test)"
      ],
      "metadata": {
        "colab": {
          "base_uri": "https://localhost:8080/"
        },
        "id": "k4EnoCQhJPIJ",
        "outputId": "9f8fe406-1c8a-4cc4-937e-b83baf951584"
      },
      "execution_count": 30,
      "outputs": [
        {
          "output_type": "stream",
          "name": "stdout",
          "text": [
            "313/313 [==============================] - 1s 4ms/step - loss: 0.0820 - accuracy: 0.9790\n"
          ]
        },
        {
          "output_type": "execute_result",
          "data": {
            "text/plain": [
              "[0.08195048570632935, 0.9789999723434448]"
            ]
          },
          "metadata": {},
          "execution_count": 30
        }
      ]
    },
    {
      "cell_type": "code",
      "source": [],
      "metadata": {
        "id": "CGsAWBP_Jf-p"
      },
      "execution_count": null,
      "outputs": []
    }
  ]
}